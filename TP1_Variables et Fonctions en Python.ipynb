{
 "cells": [
  {
   "cell_type": "markdown",
   "metadata": {},
   "source": [
    "# TP 1 : Variables et fonctions en Python\n",
    "\n",
    "Python est un langage de programmation objet et multiplateformes.\n",
    "Le langage Python est placé sous une licence libre.\n",
    "\n",
    "Le document que vous lisez est un [notebook Jupyter](http://jupyter.org/). Il est constitué de cellules comportant :\n",
    "- soit du texte en [**Markdown**](https://daringfireball.net/projects/markdown/) comme ici.\n",
    "- soit du code Python (voir plus bas)\n",
    "\n",
    "## 1- Variables et opérations en Python\n",
    "\n",
    "<span style='color:green'>**Exemple 1**</span> :\n",
    "\n",
    "Voici une \"cellule Code\". \n",
    "Sélectionner cette cellule, exécuter la (cliquer sur *Exécuter* ou utiliser le raccourci clavier *CTRL + Entrée*) et observer l'affichage."
   ]
  },
  {
   "cell_type": "code",
   "execution_count": null,
   "metadata": {},
   "outputs": [],
   "source": [
    "a=7\n",
    "b=2\n",
    "print(\"Observer les resultats suivants :\")\n",
    "print(a,a + b * 2, a / b, a ** b)"
   ]
  },
  {
   "attachments": {
    "TP1_image%201.PNG": {
     "image/png": "[encoded data removed]"
    }
   },
   "cell_type": "markdown",
   "metadata": {},
   "source": [
    "Remarque : Dans les programmes, on doit souvent stocker des données pour les utiliser plus tard. On utilise pour cela\n",
    "des variables.   \n",
    "Dans le programme précédent, on veut stocker les valeurs 7 et 2. On a alors utilisé deux variables nomméee « a » et « b ».  \n",
    "Ces variables peuvent être vues comme des boîtes :\n",
    "![TP1_image%201.PNG](attachment:TP1_image%201.PNG)\n",
    "\n",
    "L'instruction \"a=7\" signifie que l'on affecte la valeur 7 à la variable a.\n"
   ]
  },
  {
   "cell_type": "markdown",
   "metadata": {},
   "source": [
    "Répondre aux questions suivantes :\n",
    "* Éditer ce programme, changer les valeurs des variables a et b et essayer de comprendre les opérations.\n",
    "* Le language Python respecte-t-il les priorités ? \n",
    "* Que font les opérations * , / et ** ?    \n",
    "* Quelle est la différence entre print(\"...\") et print(a) ? "
   ]
  },
  {
   "cell_type": "markdown",
   "metadata": {},
   "source": [
    "<span style='color:green'>**Exemple 2**</span> : L'affectation de variables\n",
    "\n",
    "Voici un programme de calcul en langage Python."
   ]
  },
  {
   "cell_type": "code",
   "execution_count": null,
   "metadata": {},
   "outputs": [],
   "source": [
    "A=3\n",
    "B=2*A\n",
    "C=B**2\n",
    "print(C)"
   ]
  },
  {
   "cell_type": "markdown",
   "metadata": {},
   "source": [
    "* Que va afficher ce programme ? Vérifier en exécutant le programme.\n",
    "* Modifier la valeur de A pour obtenir 25 en affichage. Contrôler."
   ]
  },
  {
   "cell_type": "markdown",
   "metadata": {},
   "source": [
    "<span style='color:blue'>**Application :**</span> Voici un algorithme de calcul :\n",
    "* étant donnés deux nombres ;\n",
    "* prendre le cube du premier nombre ;\n",
    "* prendre le triple du deuxième nombre ;\n",
    "* ajouter les deux résultats précédents ;\n",
    "* afficher le dernier résultat.\n",
    "\n",
    "1) Que donne cet algorithme quand on choisit les nombres 3 et 7 ?  \n",
    "2) Traduire ci-dessous l’algorithme en Python, puis exécuter-le afin de vérifier votre résultat du 1)."
   ]
  },
  {
   "cell_type": "code",
   "execution_count": null,
   "metadata": {},
   "outputs": [],
   "source": []
  },
  {
   "cell_type": "markdown",
   "metadata": {},
   "source": [
    "## 2- Une fonction en Python\n",
    "\n",
    "Une fonction possède en général un nom, des entrées qui sont des **paramètres** (ou encore appelés **arguments**), et une sortie renvoyée généralement par l'instruction *return*.\n",
    "\n",
    " <span style='color:green'>**Exemple**</span> :\n",
    "\n",
    "Exécutez la *cellule Code* suivantes (sélectionner la \"cellule Code\", puis cliquer sur *Exécuter* ou utiliser le raccourci clavier *CTRL + Entrée*)."
   ]
  },
  {
   "cell_type": "code",
   "execution_count": null,
   "metadata": {},
   "outputs": [],
   "source": [
    "def f(x):\n",
    "    y=5*x-2\n",
    "    return y"
   ]
  },
  {
   "cell_type": "markdown",
   "metadata": {},
   "source": [
    "Il ne se passe rien ! C'est normal !  \n",
    "Pour que le programme affiche, par exemple, la valeur de f(3), il faut appeler la fonction f et donner la valeur 3 au paramètre comme ci-dessous.  \n",
    "Exécuter cette *cellule Code* et vérifier le résultat."
   ]
  },
  {
   "cell_type": "code",
   "execution_count": null,
   "metadata": {},
   "outputs": [],
   "source": [
    "f(3)"
   ]
  },
  {
   "attachments": {
    "TP1_image%203.PNG": {
     "image/png": "[encoded data removed]"
    }
   },
   "cell_type": "markdown",
   "metadata": {},
   "source": [
    "Remarques : Voici la syntaxe d'une fonction en Python :\n",
    "![TP1_image%203.PNG](attachment:TP1_image%203.PNG) \n",
    "\n",
    "* Il faut veiller à placer les deux points en fin de première ligne,\n",
    "* ces deux points introduisent le \"corps\" de la fonction, qui doit être indenté : décalé 4 caractères.\n",
    "* La fin de l’indentation, ou l’instruction return qui introduit le résultat à renvoyer, signalent à Python la fin de l’exécution de la fonction.\n",
    "* le parenthésage dans l'instruction *print()* est obligatoire contrairement à l'instruction *return*. "
   ]
  },
  {
   "cell_type": "markdown",
   "metadata": {},
   "source": [
    "On peut ensuite appeler cette fonction f comme dans le programme suivant (il faut bien sûr avant bien veiller à exécuter le programme donnant la fonction f) :"
   ]
  },
  {
   "cell_type": "code",
   "execution_count": null,
   "metadata": {},
   "outputs": [],
   "source": [
    "x=3\n",
    "y=5\n",
    "z=f(x)+f(5)\n",
    "print(z)"
   ]
  },
  {
   "cell_type": "markdown",
   "metadata": {},
   "source": [
    "## 3- A vous de jouer !"
   ]
  },
  {
   "cell_type": "markdown",
   "metadata": {},
   "source": [
    "<span style='color:blue'>**Exercice**</span> :\n",
    "\n",
    "Un bureau de change propose aujourd’hui le taux de change : 1 $ = 0.87 €.\n",
    "\n",
    "1) a. Écrire une fonction \"conversion(dollar)\", prenant en argument le nombre de dollars à échanger et renvoyant le nombre d’euros obtenus en échange."
   ]
  },
  {
   "cell_type": "code",
   "execution_count": null,
   "metadata": {},
   "outputs": [],
   "source": [
    "def conversion_euro(dollar):\n",
    "    dollar=......\n",
    "    return ...."
   ]
  },
  {
   "cell_type": "markdown",
   "metadata": {},
   "source": [
    "b. Utiliser votre fonction pour déterminer le nombre d’euros obtenus en échange de 250 dollars."
   ]
  },
  {
   "cell_type": "code",
   "execution_count": null,
   "metadata": {},
   "outputs": [],
   "source": []
  },
  {
   "cell_type": "markdown",
   "metadata": {},
   "source": [
    "2) a. Écrire une fonction en python permettant de convertir les euros en dollars."
   ]
  },
  {
   "cell_type": "code",
   "execution_count": null,
   "metadata": {},
   "outputs": [],
   "source": []
  },
  {
   "cell_type": "markdown",
   "metadata": {},
   "source": [
    "b. Contrôler ce programme avec le résultat du 1)b."
   ]
  },
  {
   "cell_type": "code",
   "execution_count": null,
   "metadata": {},
   "outputs": [],
   "source": []
  }
 ],
 "metadata": {
  "kernelspec": {
   "display_name": "Python 3",
   "language": "python",
   "name": "python3"
  },
  "language_info": {
   "codemirror_mode": {
    "name": "ipython",
    "version": 3
   },
   "file_extension": ".py",
   "mimetype": "text/x-python",
   "name": "python",
   "nbconvert_exporter": "python",
   "pygments_lexer": "ipython3",
   "version": "3.7.3"
  }
 },
 "nbformat": 4,
 "nbformat_minor": 4
}
